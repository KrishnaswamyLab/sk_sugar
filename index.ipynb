{
 "cells": [
  {
   "cell_type": "code",
   "execution_count": null,
   "metadata": {},
   "outputs": [],
   "source": [
    "#hide\n",
    "from sk_sugar.core import *"
   ]
  },
  {
   "cell_type": "markdown",
   "metadata": {},
   "source": [
    "# SUGAR\n",
    "> Python version of [sugar]\n",
    "\n",
    "[sugar]: https://www.krishnaswamylab.org/projects/sugar"
   ]
  },
  {
   "cell_type": "markdown",
   "metadata": {},
   "source": [
    "\n",
    "## Install\n",
    "\n",
    "`pip install sugar`"
   ]
  },
  {
   "cell_type": "markdown",
   "metadata": {},
   "source": [
    "# Setup\n",
    "\n",
    "To get all the pagackes required, run the following command:\n",
    "\n",
    "```bash\n",
    "$ conda env create -f environment.yml\n",
    "```\n",
    "This will create a new conda environment sklab-sugar, which can be activated via:\n",
    "\n",
    "```bash\n",
    "$ conda activate sklab-sugar\n",
    "```"
   ]
  },
  {
   "cell_type": "markdown",
   "metadata": {},
   "source": [
    "\n",
    "## Add kernel to Jupyter Notebook"
   ]
  },
  {
   "cell_type": "markdown",
   "metadata": {},
   "source": [
    "### automatic conda kernels\n",
    "\n",
    "For greater detail see the official docs for nb_conda_kernels. In short, install nb_conda_kernels in the environment from which you launch JupyterLab / Jupyter Notebooks from (e.g. base) via:\n",
    "\n",
    "```bash\n",
    "$ conda install -n <notebook_env> nb_conda_kernels\n",
    "```\n",
    "\n",
    "to add a new or exist conda environment to Jupyter simply install ipykernel into that conda environment e.g.\n",
    "\n",
    "```bash\n",
    "$ conda install -n <python_env> ipykernel\n",
    "```"
   ]
  },
  {
   "cell_type": "markdown",
   "metadata": {},
   "source": [
    "### manual ipykernel\n",
    "\n",
    "add to your Jupyter Notebook kernels via\n",
    "\n",
    "```bash\n",
    "$ python -m ipykernel install --user --name sklab-sugar\n",
    "```\n",
    "\n",
    "It can be removed via:\n",
    "\n",
    "```bash\n",
    "$ jupyter kernelspec uninstall sklab-sugar\n",
    "```\n",
    "\n",
    "list kernels found by Jupyter\n",
    "\n",
    "kernels recognized by conda\n",
    "\n",
    "```\n",
    "$ python -m nb_conda_kernels list\n",
    "```\n",
    "\n",
    "check which kernels are discovered by Jupyter:\n",
    "```bash\n",
    "$ jupyter kernelspec list\n",
    "```"
   ]
  },
  {
   "cell_type": "markdown",
   "metadata": {},
   "source": []
  },
  {
   "cell_type": "markdown",
   "metadata": {},
   "source": []
  },
  {
   "cell_type": "markdown",
   "metadata": {},
   "source": []
  },
  {
   "cell_type": "markdown",
   "metadata": {},
   "source": []
  }
 ],
 "metadata": {
  "kernelspec": {
   "display_name": "Python 3",
   "language": "python",
   "name": "python3"
  }
 },
 "nbformat": 4,
 "nbformat_minor": 2
}
